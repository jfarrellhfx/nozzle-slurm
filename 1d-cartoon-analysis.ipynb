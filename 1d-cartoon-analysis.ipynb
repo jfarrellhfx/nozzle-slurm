{
 "cells": [
  {
   "cell_type": "code",
   "execution_count": 2,
   "metadata": {},
   "outputs": [
    {
     "name": "stdout",
     "output_type": "stream",
     "text": [
      "C = 0.00011247752442996742 F/m^2\n"
     ]
    }
   ],
   "source": [
    "\n",
    "\"\"\"\n",
    "Transport results for 1D nozzle flow at qith variable resistances\n",
    "\"\"\"\n",
    "import numpy as np\n",
    "import matplotlib.pyplot as plt\n",
    "from nozzle_1d_finite_volume import Nozzle1D\n",
    "import os\n",
    "import matplotlib as mpl"
   ]
  },
  {
   "cell_type": "code",
   "execution_count": 18,
   "metadata": {},
   "outputs": [
    {
     "data": {
      "text/plain": [
       "(0.25, 0.5)"
      ]
     },
     "execution_count": 18,
     "metadata": {},
     "output_type": "execute_result"
    },
    {
     "data": {
      "image/png": "[encoded data removed]",
      "text/plain": [
       "<Figure size 432x288 with 1 Axes>"
      ]
     },
     "metadata": {
      "needs_background": "light"
     },
     "output_type": "display_data"
    }
   ],
   "source": [
    "n0s = [5e15]\n",
    "results_dir = \"/scratch/alpine/jafa3629/transport-100x100-cartoon-2\"\n",
    "\n",
    "\n",
    "def transport(n0):\n",
    "    V = []\n",
    "    I = []\n",
    "    I = np.linspace(0, 2, 500)\n",
    "    fullresults = f\"{results_dir}/{n0:.8e}\"\n",
    "    for fn in sorted(os.listdir(fullresults)):\n",
    "        if \".npz\" in fn:\n",
    "            data = np.load(f\"{fullresults}/{fn}\")\n",
    "            V.append(data[\"V\"][0] - data[\"V\"][-1])\n",
    "    V = np.array(V)\n",
    "\n",
    "    \n",
    "    return I, np.gradient(V, I)\n",
    "\n",
    "\n",
    "plt.plot(*transport(5e15))\n",
    "plt.xlim(.25, 0.5)\n",
    "\n",
    "\n",
    "\n",
    "    "
   ]
  },
  {
   "cell_type": "code",
   "execution_count": null,
   "metadata": {},
   "outputs": [],
   "source": []
  }
 ],
 "metadata": {
  "kernelspec": {
   "display_name": "base",
   "language": "python",
   "name": "python3"
  },
  "language_info": {
   "codemirror_mode": {
    "name": "ipython",
    "version": 3
   },
   "file_extension": ".py",
   "mimetype": "text/x-python",
   "name": "python",
   "nbconvert_exporter": "python",
   "pygments_lexer": "ipython3",
   "version": "3.7.3"
  }
 },
 "nbformat": 4,
 "nbformat_minor": 2
}
